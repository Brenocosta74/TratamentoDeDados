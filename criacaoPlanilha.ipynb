{
 "cells": [
  {
   "cell_type": "code",
   "execution_count": 6,
   "metadata": {},
   "outputs": [],
   "source": [
    "import pandas as pd\n",
    "import numpy as np\n",
    "\n",
    "# Criar um dataframe com alguns dados faltando\n",
    "data = {\n",
    "    \"Nome\": [\"João\", \"Maria\", \"Pedro\", \"Ana\", \"Carlos\"],\n",
    "    \"Idade\": [25, np.nan, 42, np.nan, 28],\n",
    "    \"Cidade\": [\"São Paulo\", \"Rio de Janeiro\", np.nan, \"Belo Horizonte\", \"Porto\"],\n",
    "    \"Salário\": [5000.0, 6000.0, np.nan, 7000.0, 8000.0]\n",
    "}\n",
    "\n",
    "df = pd.DataFrame(data)\n",
    "\n",
    "arquivo = \"dados_ausentes.xlsx\"\n",
    "df.to_excel(arquivo, index=False)"
   ]
  }
 ],
 "metadata": {
  "kernelspec": {
   "display_name": "Python 3",
   "language": "python",
   "name": "python3"
  },
  "language_info": {
   "codemirror_mode": {
    "name": "ipython",
    "version": 3
   },
   "file_extension": ".py",
   "mimetype": "text/x-python",
   "name": "python",
   "nbconvert_exporter": "python",
   "pygments_lexer": "ipython3",
   "version": "3.12.1"
  }
 },
 "nbformat": 4,
 "nbformat_minor": 2
}
